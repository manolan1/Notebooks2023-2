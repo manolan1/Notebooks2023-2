{
 "cells": [
  {
   "cell_type": "markdown",
   "metadata": {},
   "source": [
    "# Chapter 9: Classes (part 5)\n",
    "\n",
    "## Static and Class Methods\n",
    "\n",
    "Take a look at the new version. There are two new methods."
   ]
  },
  {
   "cell_type": "code",
   "execution_count": null,
   "metadata": {},
   "outputs": [],
   "source": [
    "class Car:\n",
    "    \"\"\"\n",
    "       This is the seventh class\n",
    "    \"\"\"\n",
    "\n",
    "    __count = 0\n",
    "\n",
    "    def __init__(self, name = None):\n",
    "        self.__set_name(name)\n",
    "        type(self).__count += 1\n",
    "\n",
    "    def __del__(self):\n",
    "        type(self).__count -= 1\n",
    "\n",
    "    def say_hi(self):\n",
    "        print(self.name, ', says \"hi!\"')\n",
    "\n",
    "    def __set_name(self, name):\n",
    "        if name:\n",
    "            self.__name = name\n",
    "        else:\n",
    "            self.__name = 'Unknown'\n",
    "\n",
    "    def __get_name(self):\n",
    "        return self.__name\n",
    "\n",
    "    @staticmethod\n",
    "    def car_count():\n",
    "        return Car.__count\n",
    "\n",
    "    @classmethod\n",
    "    def class_count(cls):\n",
    "        return cls.__count\n",
    "\n",
    "    name = property(__get_name, __set_name)\n",
    "\n",
    "# or\n",
    "# from Car_7 import Car"
   ]
  },
  {
   "cell_type": "markdown",
   "metadata": {},
   "source": [
    "### `@staticmethod`\n",
    "\n",
    "- `@staticmethod` is a _decorator_.\n",
    "  - It is a directive to the Python interpreter to tell it something about the next item it encounters.\n",
    "- Static Methods are not passed a reference to the instance (or the class).\n",
    "  - They are defined in the body of the class, so they have access to private variables of the class, but can only refer to them through the class name."
   ]
  },
  {
   "cell_type": "code",
   "execution_count": null,
   "metadata": {},
   "outputs": [],
   "source": [
    "c7 = Car()"
   ]
  },
  {
   "cell_type": "code",
   "execution_count": null,
   "metadata": {},
   "outputs": [],
   "source": [
    "c7.car_count()"
   ]
  },
  {
   "cell_type": "code",
   "execution_count": null,
   "metadata": {},
   "outputs": [],
   "source": [
    "Car.car_count()"
   ]
  },
  {
   "cell_type": "code",
   "execution_count": null,
   "metadata": {},
   "outputs": [],
   "source": [
    "c7.class_count()"
   ]
  },
  {
   "cell_type": "markdown",
   "metadata": {},
   "source": [
    "Now open the notebook for Exercise 9_2"
   ]
  },
  {
   "cell_type": "markdown",
   "metadata": {},
   "source": [
    "# End of Notebook"
   ]
  }
 ],
 "metadata": {
  "kernelspec": {
   "display_name": "Python 3 (ipykernel)",
   "language": "python",
   "name": "python3"
  },
  "language_info": {
   "codemirror_mode": {
    "name": "ipython",
    "version": 3
   },
   "file_extension": ".py",
   "mimetype": "text/x-python",
   "name": "python",
   "nbconvert_exporter": "python",
   "pygments_lexer": "ipython3",
   "version": "3.8.16"
  }
 },
 "nbformat": 4,
 "nbformat_minor": 2
}

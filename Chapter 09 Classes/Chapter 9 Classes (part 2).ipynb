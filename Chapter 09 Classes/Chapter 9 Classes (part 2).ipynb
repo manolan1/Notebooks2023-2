{
 "cells": [
  {
   "cell_type": "markdown",
   "metadata": {},
   "source": [
    "# Chapter 9: Classes (part 2)\n",
    "\n",
    "## Adding Attributes"
   ]
  },
  {
   "cell_type": "code",
   "execution_count": null,
   "metadata": {},
   "outputs": [],
   "source": [
    "class Car:\n",
    "    \"\"\"\n",
    "       This is the second class\n",
    "    \"\"\"\n",
    "    count = 0\n",
    "    def __init__(self, name = None):\n",
    "        self.name = name\n",
    "        type(self).count += 1\n",
    "\n",
    "# or\n",
    "# from Car_2 import Car"
   ]
  },
  {
   "cell_type": "markdown",
   "metadata": {},
   "source": [
    "- Line 5\n",
    "  - Defines a class variable `count`. The data here is about the class number of Cars created, not anything about the instance.\n",
    "- Lines 6-8\n",
    "  - Define a function `__init__`.\n",
    "  - Because it is defined inside a class definition, it is called a _method_.\n",
    "  - `__init__` is a special method.\n",
    "    - It is called by the class function, in this case `Car()`.\n",
    "    - Parameters passed to `Car()` are passed to `__init__`.\n",
    "    - `self` is a reference to the instance being made. It is always the first parameter of `__init__`. \n",
    "- Line 7\n",
    "  - `self.name` is initialized with the value passed in.\n",
    "  - It is stored in the instance object.\n",
    "- Line 8\n",
    "  - This increases the class variable by `1` because 1 new Car has been created.\n",
    "  - Notice that the access is `Car.count`. If just `count` was used, a local variable would have been created, which is not what was wanted.\n",
    "  - `type(self)` evaluates to `Car`. Could have used `Car.count += 1`, but `type(self)` works better with inheritance which we will see a little later.\n"
   ]
  },
  {
   "cell_type": "code",
   "execution_count": null,
   "metadata": {},
   "outputs": [],
   "source": [
    "print(Car.count)"
   ]
  },
  {
   "cell_type": "code",
   "execution_count": null,
   "metadata": {},
   "outputs": [],
   "source": [
    "c2 = Car('Lightning McQueen')"
   ]
  },
  {
   "cell_type": "code",
   "execution_count": null,
   "metadata": {},
   "outputs": [],
   "source": [
    "c2.name"
   ]
  },
  {
   "cell_type": "code",
   "execution_count": null,
   "metadata": {},
   "outputs": [],
   "source": [
    "c2.count"
   ]
  },
  {
   "cell_type": "code",
   "execution_count": null,
   "metadata": {},
   "outputs": [],
   "source": [
    "Car.count"
   ]
  },
  {
   "cell_type": "markdown",
   "metadata": {},
   "source": [
    "## Deleting an Instance"
   ]
  },
  {
   "cell_type": "code",
   "execution_count": null,
   "metadata": {},
   "outputs": [],
   "source": [
    "del c2"
   ]
  },
  {
   "cell_type": "code",
   "execution_count": null,
   "metadata": {},
   "outputs": [],
   "source": [
    "c2.name"
   ]
  },
  {
   "cell_type": "code",
   "execution_count": null,
   "metadata": {},
   "outputs": [],
   "source": [
    "Car.count"
   ]
  },
  {
   "cell_type": "markdown",
   "metadata": {},
   "source": [
    "- If `count` is to be the number of instances, need a way to subtract `1` from `count` when object is deleted.\n",
    "\n",
    "## `__del__` for Deleted Objects\n",
    "\n",
    "- You do not have to worry about memory clean-up, automatic garbage collection will take care of it.\n",
    "- You do have to worry about class variables or perhaps connections."
   ]
  },
  {
   "cell_type": "code",
   "execution_count": null,
   "metadata": {},
   "outputs": [],
   "source": [
    "class Car:\n",
    "    \"\"\"\n",
    "       This is the third class\n",
    "    \"\"\"\n",
    "    count = 0\n",
    "\n",
    "    def __init__(self, name = None):\n",
    "        self.name = name\n",
    "        type(self).count += 1\n",
    "    def __del__(self):\n",
    "        type(self).count -= 1\n",
    "\n",
    "# or\n",
    "# from Car_3 import Car"
   ]
  },
  {
   "cell_type": "markdown",
   "metadata": {},
   "source": [
    "- Lines 10 and 11\n",
    "  - Define the method `__del__` which is called each time an instance is deleted."
   ]
  },
  {
   "cell_type": "code",
   "execution_count": null,
   "metadata": {},
   "outputs": [],
   "source": [
    "c3= Car('Doc Hudson')"
   ]
  },
  {
   "cell_type": "code",
   "execution_count": null,
   "metadata": {},
   "outputs": [],
   "source": [
    "c3.count"
   ]
  },
  {
   "cell_type": "code",
   "execution_count": null,
   "metadata": {},
   "outputs": [],
   "source": [
    "del c3"
   ]
  },
  {
   "cell_type": "code",
   "execution_count": null,
   "metadata": {},
   "outputs": [],
   "source": [
    "Car.count"
   ]
  },
  {
   "cell_type": "markdown",
   "metadata": {},
   "source": [
    "# End of Notebook"
   ]
  }
 ],
 "metadata": {
  "kernelspec": {
   "display_name": "Python 3 (ipykernel)",
   "language": "python",
   "name": "python3"
  },
  "language_info": {
   "codemirror_mode": {
    "name": "ipython",
    "version": 3
   },
   "file_extension": ".py",
   "mimetype": "text/x-python",
   "name": "python",
   "nbconvert_exporter": "python",
   "pygments_lexer": "ipython3",
   "version": "3.8.16"
  }
 },
 "nbformat": 4,
 "nbformat_minor": 2
}

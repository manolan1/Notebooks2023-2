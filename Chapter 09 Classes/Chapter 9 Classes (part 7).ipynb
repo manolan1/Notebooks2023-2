{
 "cells": [
  {
   "cell_type": "markdown",
   "metadata": {},
   "source": [
    "# Chapter 9: Classes (part 7)\n",
    "\n",
    "## Single Inheritance\n",
    "\n",
    "- This is the last version of `Car` from the previous section.\n",
    "- There is a problem with this class that will not be apparent until we create subclasses."
   ]
  },
  {
   "cell_type": "code",
   "execution_count": null,
   "metadata": {},
   "outputs": [],
   "source": [
    "class Car:\n",
    "    \"\"\"\n",
    "       This is the base class\n",
    "    \"\"\"\n",
    "\n",
    "    __count = 0\n",
    "\n",
    "    def __init__(self, name = None):\n",
    "        self.__set_name(name)\n",
    "        type(self).__count += 1\n",
    "\n",
    "    def __del__(self):\n",
    "        type(self).__count -= 1\n",
    "\n",
    "    def say_hi(self):\n",
    "        print(self.name, ', says \"hi!\"')\n",
    "\n",
    "    def __set_name(self, name):\n",
    "        if name:\n",
    "            self.__name = name\n",
    "        else:\n",
    "            self.__name = 'Unknown'\n",
    "\n",
    "    def __get_name(self):\n",
    "        return self.__name\n",
    "\n",
    "    @staticmethod\n",
    "    def car_count():\n",
    "        return Car.__count\n",
    "\n",
    "    @classmethod\n",
    "    def class_count(cls):\n",
    "        return cls.__count\n",
    "\n",
    "    def __str__(self):        \n",
    "        return 'Car with name ' + self.__get_name()\n",
    "\n",
    "    def __gt__(self, other):\n",
    "        return self.name > other.name\n",
    "\n",
    "    name = property(__get_name, __set_name)\n",
    "\n",
    "# or\n",
    "# from Car_8 import Car"
   ]
  },
  {
   "cell_type": "markdown",
   "metadata": {},
   "source": [
    "### Subclasses\n",
    "\n",
    "- A subclass shares all the attributes and methods of the superclass, but can choose to override behaviour.\n",
    "  - Subclasses are also known as child classes or subtypes.\n",
    "- In Python, a subclass is defined by putting the superclass name in parentheses:\n",
    "```\n",
    "class Child(Parent):\n",
    "    def ...\n",
    "```\n"
   ]
  },
  {
   "cell_type": "code",
   "execution_count": null,
   "metadata": {},
   "outputs": [],
   "source": [
    "# Would need the next line in a file-based script\n",
    "# from Car_8 import Car\n",
    "\n",
    "class HesitantCar(Car):\n",
    "    def __init__(self, name = None, times = 1):\n",
    "        super().__init__(name = name)\n",
    "        self.__times = times\n",
    "\n",
    "    def say_hi(self):\n",
    "        print('\"', 'um ...' * self.__times, 'hi!\", said', super().name)\n",
    "\n",
    "    def say_goodbye(self):\n",
    "        print('\"', 'um ...' * self.__times, 'goodbye!\", said', super().name)"
   ]
  },
  {
   "cell_type": "markdown",
   "metadata": {},
   "source": [
    "- This is a subclass of `Car`.\n",
    "  - Look at line 4, where it says `class HesitantCar(Car)`.\n",
    "- Subclasses can choose to access members of the superclass using `super().`.\n",
    "  - Can also access them using `ClassName.`, in which case they must pass `self` explicitly:\n",
    "    - E.g. `Car.__init__(self, name = name)`\n",
    "    - This mechanism is less flexible if the class structure might change"
   ]
  },
  {
   "cell_type": "code",
   "execution_count": null,
   "metadata": {},
   "outputs": [],
   "source": [
    "c9 = HesitantCar('Mater')"
   ]
  },
  {
   "cell_type": "code",
   "execution_count": null,
   "metadata": {},
   "outputs": [],
   "source": [
    "c9.say_hi()"
   ]
  },
  {
   "cell_type": "code",
   "execution_count": null,
   "metadata": {},
   "outputs": [],
   "source": [
    "c9.say_goodbye()"
   ]
  },
  {
   "cell_type": "markdown",
   "metadata": {},
   "source": [
    "- `say_hi()` is overridden in `HesitantCar`\n",
    "- When searching for methods (and attributes), Python uses the MRO (Method Resolution Order)."
   ]
  },
  {
   "cell_type": "code",
   "execution_count": null,
   "metadata": {},
   "outputs": [],
   "source": [
    "HesitantCar.__mro__"
   ]
  },
  {
   "cell_type": "markdown",
   "metadata": {},
   "source": [
    "- This shows that Python searches classes in the order `HesitantCar`, `Car` and then `object`.\n",
    "- `object` is a special built-in class.\n",
    "  - All classes inherit from `object` implicitly if there is no explicit superclass.\n",
    "  - `object` implements the default methods that we saw earlier."
   ]
  },
  {
   "cell_type": "code",
   "execution_count": null,
   "metadata": {},
   "outputs": [],
   "source": [
    "HesitantCar.car_count()"
   ]
  },
  {
   "cell_type": "code",
   "execution_count": null,
   "metadata": {},
   "outputs": [],
   "source": [
    "HesitantCar.class_count()"
   ]
  },
  {
   "cell_type": "code",
   "execution_count": null,
   "metadata": {},
   "outputs": [],
   "source": [
    "Car.car_count()"
   ]
  },
  {
   "cell_type": "code",
   "execution_count": null,
   "metadata": {},
   "outputs": [],
   "source": [
    "Car.class_count()"
   ]
  },
  {
   "cell_type": "markdown",
   "metadata": {},
   "source": [
    "- Can you see why `car_count()` returned `0` whereas `class_count()` returned `1`?\n",
    "  - To make it clearer, you can follow through in the debugger, or add an extra line to the definition of `Car.__init__()`."
   ]
  },
  {
   "cell_type": "code",
   "execution_count": null,
   "metadata": {},
   "outputs": [],
   "source": [
    "class Car:\n",
    "    \"\"\"\n",
    "       This is the base class\n",
    "    \"\"\"\n",
    "\n",
    "    __count = 0\n",
    "\n",
    "    def __init__(self, name = None):\n",
    "        self.__set_name(name)\n",
    "        print(type(self))            # Extra line\n",
    "        type(self).__count += 1\n",
    "\n",
    "    def __del__(self):\n",
    "        type(self).__count -= 1\n",
    "\n",
    "    def say_hi(self):\n",
    "        print(self.name, ', says \"hi!\"')\n",
    "\n",
    "    def __set_name(self, name):\n",
    "        if name:\n",
    "            self.__name = name\n",
    "        else:\n",
    "            self.__name = 'Unknown'\n",
    "\n",
    "    def __get_name(self):\n",
    "        return self.__name\n",
    "\n",
    "    @staticmethod\n",
    "    def car_count():\n",
    "        return Car.__count\n",
    "\n",
    "    @classmethod\n",
    "    def class_count(cls):\n",
    "        return cls.__count\n",
    "\n",
    "    def __str__(self):        \n",
    "        return 'Car with name ' + self.__get_name()\n",
    "\n",
    "    def __gt__(self, other):\n",
    "        return self.name > other.name\n",
    "\n",
    "    name = property(__get_name, __set_name)\n",
    "\n",
    "\n",
    "class HesitantCar(Car):\n",
    "    def __init__(self, name = None, times = 1):\n",
    "        super().__init__(name = name)\n",
    "        self.__times = times\n",
    "\n",
    "    def say_hi(self):\n",
    "        print('\"', 'um ...' * self.__times, 'hi!\", said', super().name)\n",
    "\n",
    "    def say_goodbye(self):\n",
    "        print('\"', 'um ...' * self.__times, 'goodbye!\", said', super().name)"
   ]
  },
  {
   "cell_type": "code",
   "execution_count": null,
   "metadata": {},
   "outputs": [],
   "source": [
    "r10 = HesitantCar('Mater')"
   ]
  },
  {
   "cell_type": "markdown",
   "metadata": {},
   "source": [
    "- Even though we added that `print` call to the parent class (`Car`), when it was executed, `self` was of type `HesitantCar`. That means the count that was updated in the `__init__()` was associated with `HesitantCar` since it was written `type(self).__count += 1`.\n",
    "- When we execute `car_count()`, we get the count associated with the superclass, `Car`, not the subclass (hardcoded in the method).\n",
    "- When we execute `class_count()`, we access the count through the class variable passed in, which will be `HesitantCar`.\n",
    "\n",
    "This is the essential difference between `@staticmethod` and `@classmethod`, except it is a little simplistic, as we shall see."
   ]
  },
  {
   "cell_type": "markdown",
   "metadata": {},
   "source": [
    "### Subclassing Further\n",
    "\n",
    "Let's create a subclass of `HesitantCar`.\n",
    "\n",
    "If you created the diagnostic classes above, go back to the start of the notebook and re-define `Car` and `HesitantCar` without the additional diagnostic `print()`.\n",
    "- It is not enough to recreate just `Car`. Can you see why not?"
   ]
  },
  {
   "cell_type": "code",
   "execution_count": null,
   "metadata": {},
   "outputs": [],
   "source": [
    "# from HesitantCar import HesitantCar\n",
    "\n",
    "class OldCar(HesitantCar):\n",
    "    def __init__(self, name = None, times = 3, age = 0):\n",
    "        super().__init__(name = name, times = times)\n",
    "        self.__set_age(age)\n",
    "\n",
    "    def __set_age(self, age):\n",
    "        if age < 70:\n",
    "            self.__age = 70\n",
    "        else:\n",
    "            self.__age = age\n",
    "\n",
    "    def __get_age(self):\n",
    "        return self.__age\n",
    "\n",
    "    age = property(__get_age, __set_age)\n",
    "\n",
    "# or\n",
    "# from OldCar import OldCar"
   ]
  },
  {
   "cell_type": "code",
   "execution_count": null,
   "metadata": {},
   "outputs": [],
   "source": [
    "OldCar.__mro__"
   ]
  },
  {
   "cell_type": "code",
   "execution_count": null,
   "metadata": {},
   "outputs": [],
   "source": [
    "o1 = OldCar(name = 'Chitty Chitty Bang Bang', times = 2, age = 30)"
   ]
  },
  {
   "cell_type": "code",
   "execution_count": null,
   "metadata": {},
   "outputs": [],
   "source": [
    "o1.name"
   ]
  },
  {
   "cell_type": "code",
   "execution_count": null,
   "metadata": {},
   "outputs": [],
   "source": [
    "o1.age"
   ]
  },
  {
   "cell_type": "code",
   "execution_count": null,
   "metadata": {},
   "outputs": [],
   "source": [
    "o1.say_hi()"
   ]
  },
  {
   "cell_type": "code",
   "execution_count": null,
   "metadata": {},
   "outputs": [],
   "source": [
    "OldCar.car_count()"
   ]
  },
  {
   "cell_type": "code",
   "execution_count": null,
   "metadata": {},
   "outputs": [],
   "source": [
    "OldCar.class_count()"
   ]
  },
  {
   "cell_type": "markdown",
   "metadata": {},
   "source": [
    "Well, that was a little surprising!\n",
    "\n",
    "There is only one `OldCar`, but the count is `2`. Can you work out why?\n",
    "\n",
    "The following commands may help you to formulate an opinion."
   ]
  },
  {
   "cell_type": "code",
   "execution_count": null,
   "metadata": {},
   "outputs": [],
   "source": [
    "OldCar.__dict__"
   ]
  },
  {
   "cell_type": "code",
   "execution_count": null,
   "metadata": {},
   "outputs": [],
   "source": [
    "HesitantCar.__dict__"
   ]
  },
  {
   "cell_type": "markdown",
   "metadata": {},
   "source": [
    "- `__count` is defined in the scope of `Car`.\n",
    "  - Python represents this by giving all subclasses a member called `_Car__count`.\n",
    "  - This is not the same variable (hopefully that much is obvious, because they don't have the same value, but if you want, you can execute `id(OldCar._car__count)` etc to have a look).\n",
    "- What do you think happens when `OldCar` is defined as a subclass of `HesitantCar`? Remember that a class is really just a dictionary.\n",
    "  - The dictionary of the parent is copied and new members are added and old members are overridden.\n",
    "  - It does _not_ refer to the same variables as the superclass, but it _does_ get initialised with the same values.\n",
    "- So, when `OldCar` is defined, the value of `HesitantCar._Car__count` was already set to 1.\n",
    "  - This is not an issue with instance variables\n",
    "  - And not an issue with class hierarchies that are defined before any instances are created, or where no superclass instances are ever created.\n",
    "\n",
    "If you are still uncertain, take a look at the following example (if you need to, vary the commands to illustrate all situations):"
   ]
  },
  {
   "cell_type": "code",
   "execution_count": null,
   "metadata": {},
   "outputs": [],
   "source": [
    "class Grandparent():\n",
    "    __count = 0\n",
    "\n",
    "    def __init__(self):\n",
    "        type(self).__count += 1\n",
    "\n",
    "    def __del__(self):\n",
    "        type(self).__count -= 1\n",
    "\n",
    "    def __str__(self):\n",
    "        return '%s: %s' % (type(self), type(self).__count)\n",
    "\n",
    "class Parent(Grandparent):\n",
    "    def __init__(self):\n",
    "        super().__init__()\n",
    "\n",
    "class Child1(Parent):\n",
    "    def __init__(self):\n",
    "        super().__init__()\n",
    "\n",
    "class Child2(Parent):\n",
    "    def __init__(self):\n",
    "        super().__init__()"
   ]
  },
  {
   "cell_type": "code",
   "execution_count": null,
   "metadata": {},
   "outputs": [],
   "source": [
    "c1 = Child1()\n",
    "p = Parent()\n",
    "g = Grandparent()"
   ]
  },
  {
   "cell_type": "code",
   "execution_count": null,
   "metadata": {},
   "outputs": [],
   "source": [
    "print(c1)\n",
    "print(p)\n",
    "print(g)"
   ]
  },
  {
   "cell_type": "code",
   "execution_count": null,
   "metadata": {},
   "outputs": [],
   "source": [
    "c2 = Child2()\n",
    "print(c2)"
   ]
  },
  {
   "cell_type": "markdown",
   "metadata": {},
   "source": [
    "`c1` is created before any instance of the `Parent` or `Grandparent` is created. `Parent._Grandparent__count` has the value `0`. But, by the time `c2` is created, it has the value `1`."
   ]
  },
  {
   "cell_type": "code",
   "execution_count": null,
   "metadata": {},
   "outputs": [],
   "source": [
    "c1x = Child1()\n",
    "px = Parent()\n",
    "gx = Grandparent()\n",
    "c2x = Child2()\n",
    "print(c1x)\n",
    "print(px)\n",
    "print(gx)\n",
    "print(c2x)"
   ]
  },
  {
   "cell_type": "markdown",
   "metadata": {},
   "source": [
    "Once the class object has been created, it counts as you would expect."
   ]
  },
  {
   "cell_type": "markdown",
   "metadata": {},
   "source": [
    "## Common Patterns in Inheritance\n",
    "\n",
    "There is one very common pattern in inheritance. That is to have the class `__init__()` functions defined to accept keyword parameters. The parameters that will be bound in that class are named keywords, and the rest are covered by a `**kwds` parameter to be passed on to the parent.\n",
    "\n",
    "If we apply this pattern to our classes, we might end up with this:"
   ]
  },
  {
   "cell_type": "code",
   "execution_count": null,
   "metadata": {},
   "outputs": [],
   "source": [
    "class Car:\n",
    "    \"\"\"\n",
    "       This is the base class\n",
    "    \"\"\"\n",
    "\n",
    "    __count = 0\n",
    "\n",
    "    def __init__(self, name = None):\n",
    "        self.__set_name(name)\n",
    "        type(self).__count += 1\n",
    "\n",
    "    def __del__(self):\n",
    "        type(self).__count -= 1\n",
    "\n",
    "    def say_hi(self):\n",
    "        print(self.name, ', says \"hi!\"')\n",
    "\n",
    "    def __set_name(self, name):\n",
    "        if name:\n",
    "            self.__name = name\n",
    "        else:\n",
    "            self.__name = 'Unknown'\n",
    "\n",
    "    def __get_name(self):\n",
    "        return self.__name\n",
    "\n",
    "    @staticmethod\n",
    "    def car_count():\n",
    "        return Car.__count\n",
    "\n",
    "    @classmethod\n",
    "    def class_count(cls):\n",
    "        return cls.__count\n",
    "\n",
    "    def __str__(self):        \n",
    "        return 'Car with name ' + self.__get_name()\n",
    "\n",
    "    def __gt__(self, other):\n",
    "        return self.name > other.name\n",
    "\n",
    "    name = property(__get_name, __set_name)\n",
    "\n",
    "class HesitantCar(Car):\n",
    "    def __init__(self, times = 1, **kwds):\n",
    "        super().__init__(**kwds)\n",
    "        self.__times = times\n",
    "\n",
    "    def say_hi(self):\n",
    "        print('\"', 'um ...' * self.__times, 'hi!\", said', super().name)\n",
    "\n",
    "    def say_goodbye(self):\n",
    "        print('\"', 'um ...' * self.__times, 'goodbye!\", said', super().name)\n",
    "\n",
    "class OldCar(HesitantCar):\n",
    "    def __init__(self, age = 0, **kwds):\n",
    "        super().__init__(**kwds)\n",
    "        self.__set_age(age)\n",
    "\n",
    "    def __set_age(self, age):\n",
    "        if age < 70:\n",
    "            self.__age = 70\n",
    "        else:\n",
    "            self.__age = age\n",
    "\n",
    "    def __get_age(self):\n",
    "        return self.__age\n",
    "\n",
    "    age = property(__get_age, __set_age)\n"
   ]
  },
  {
   "cell_type": "markdown",
   "metadata": {},
   "source": [
    "There are some limitations:\n",
    "- All parameters to the constructors of subclasses must be named\n",
    "  - Can no longer write `c10 = HesitantCar('Mater')`\n",
    "- It is not easy to redefine default values in the subclasses\n",
    "  - We used to do that in `OldCar`, but no longer do\n",
    "    - It is not impossible, but a little less convenient"
   ]
  },
  {
   "cell_type": "code",
   "execution_count": null,
   "metadata": {},
   "outputs": [],
   "source": [
    "mater = HesitantCar(name = 'Mater')\n",
    "chitty = OldCar(name = 'Chitty Chitty Bang Bang', times = 2, age = 30)\n",
    "print(mater)\n",
    "print(chitty)"
   ]
  },
  {
   "cell_type": "markdown",
   "metadata": {},
   "source": [
    "## Multiple Inheritance\n",
    "\n",
    "Python supports multiple inheritance using the following syntax:\n",
    "```\n",
    "class SubClassName(Parent1, Parent2):\n",
    "```\n",
    "The MRO checks `Parent1` first and then `Parent2`.\n",
    "\n",
    "This is beyond the scope of this course."
   ]
  },
  {
   "cell_type": "markdown",
   "metadata": {},
   "source": [
    "# End of Notebook"
   ]
  }
 ],
 "metadata": {
  "kernelspec": {
   "display_name": "Python 3 (ipykernel)",
   "language": "python",
   "name": "python3"
  },
  "language_info": {
   "codemirror_mode": {
    "name": "ipython",
    "version": 3
   },
   "file_extension": ".py",
   "mimetype": "text/x-python",
   "name": "python",
   "nbconvert_exporter": "python",
   "pygments_lexer": "ipython3",
   "version": "3.8.16"
  }
 },
 "nbformat": 4,
 "nbformat_minor": 2
}
